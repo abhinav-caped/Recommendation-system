{
 "cells": [
  {
   "cell_type": "code",
   "execution_count": 89,
   "metadata": {},
   "outputs": [],
   "source": [
    "import numpy as np \n",
    "import pandas as pd"
   ]
  },
  {
   "cell_type": "code",
   "execution_count": 90,
   "metadata": {},
   "outputs": [],
   "source": [
    "#loading the data\n",
    "workshop_data = pd.read_csv(\"C:/Users/abhin/OneDrive/Documents/workshop.csv\")\n",
    "students_data = pd.read_csv(\"C:/Users/abhin/Documents/students_data.csv\")"
   ]
  },
  {
   "cell_type": "code",
   "execution_count": 91,
   "metadata": {},
   "outputs": [
    {
     "data": {
      "text/html": [
       "<div>\n",
       "<style scoped>\n",
       "    .dataframe tbody tr th:only-of-type {\n",
       "        vertical-align: middle;\n",
       "    }\n",
       "\n",
       "    .dataframe tbody tr th {\n",
       "        vertical-align: top;\n",
       "    }\n",
       "\n",
       "    .dataframe thead th {\n",
       "        text-align: right;\n",
       "    }\n",
       "</style>\n",
       "<table border=\"1\" class=\"dataframe\">\n",
       "  <thead>\n",
       "    <tr style=\"text-align: right;\">\n",
       "      <th></th>\n",
       "      <th>title</th>\n",
       "      <th>tags</th>\n",
       "    </tr>\n",
       "  </thead>\n",
       "  <tbody>\n",
       "    <tr>\n",
       "      <th>0</th>\n",
       "      <td>Introduction to Artificial Intelligence</td>\n",
       "      <td>AI, Machine Learning, Computer Science</td>\n",
       "    </tr>\n",
       "    <tr>\n",
       "      <th>1</th>\n",
       "      <td>Deep Dive into Robotics</td>\n",
       "      <td>Robotics, Engineering, AI</td>\n",
       "    </tr>\n",
       "    <tr>\n",
       "      <th>2</th>\n",
       "      <td>Data Science for Beginners</td>\n",
       "      <td>Data Science, Statistics, Machine Learning</td>\n",
       "    </tr>\n",
       "    <tr>\n",
       "      <th>3</th>\n",
       "      <td>Understanding Blockchain Technology</td>\n",
       "      <td>Blockchain, Technology, Cryptocurrency</td>\n",
       "    </tr>\n",
       "    <tr>\n",
       "      <th>4</th>\n",
       "      <td>Mastering Python for Data Science</td>\n",
       "      <td>Python, Data Science, Programming</td>\n",
       "    </tr>\n",
       "  </tbody>\n",
       "</table>\n",
       "</div>"
      ],
      "text/plain": [
       "                                     title  \\\n",
       "0  Introduction to Artificial Intelligence   \n",
       "1                  Deep Dive into Robotics   \n",
       "2               Data Science for Beginners   \n",
       "3      Understanding Blockchain Technology   \n",
       "4        Mastering Python for Data Science   \n",
       "\n",
       "                                         tags  \n",
       "0      AI, Machine Learning, Computer Science  \n",
       "1                   Robotics, Engineering, AI  \n",
       "2  Data Science, Statistics, Machine Learning  \n",
       "3      Blockchain, Technology, Cryptocurrency  \n",
       "4           Python, Data Science, Programming  "
      ]
     },
     "execution_count": 91,
     "metadata": {},
     "output_type": "execute_result"
    }
   ],
   "source": [
    "workshop_data.head()"
   ]
  },
  {
   "cell_type": "code",
   "execution_count": 92,
   "metadata": {},
   "outputs": [
    {
     "data": {
      "text/html": [
       "<div>\n",
       "<style scoped>\n",
       "    .dataframe tbody tr th:only-of-type {\n",
       "        vertical-align: middle;\n",
       "    }\n",
       "\n",
       "    .dataframe tbody tr th {\n",
       "        vertical-align: top;\n",
       "    }\n",
       "\n",
       "    .dataframe thead th {\n",
       "        text-align: right;\n",
       "    }\n",
       "</style>\n",
       "<table border=\"1\" class=\"dataframe\">\n",
       "  <thead>\n",
       "    <tr style=\"text-align: right;\">\n",
       "      <th></th>\n",
       "      <th>Name</th>\n",
       "      <th>Registration Number</th>\n",
       "      <th>Interests</th>\n",
       "      <th>Branch</th>\n",
       "    </tr>\n",
       "  </thead>\n",
       "  <tbody>\n",
       "    <tr>\n",
       "      <th>0</th>\n",
       "      <td>Quincy Brown</td>\n",
       "      <td>230902858</td>\n",
       "      <td>Physics, Programming</td>\n",
       "      <td>BIOTECH</td>\n",
       "    </tr>\n",
       "    <tr>\n",
       "      <th>1</th>\n",
       "      <td>Quincy Taylor</td>\n",
       "      <td>230908115</td>\n",
       "      <td>Physics</td>\n",
       "      <td>BIOMED</td>\n",
       "    </tr>\n",
       "    <tr>\n",
       "      <th>2</th>\n",
       "      <td>Alice Martinez</td>\n",
       "      <td>230903311</td>\n",
       "      <td>Statistics</td>\n",
       "      <td>CPS</td>\n",
       "    </tr>\n",
       "    <tr>\n",
       "      <th>3</th>\n",
       "      <td>Nathan Miller</td>\n",
       "      <td>230902604</td>\n",
       "      <td>Python, AIML, Quantum Computing, Cryptocurrenc...</td>\n",
       "      <td>ENI</td>\n",
       "    </tr>\n",
       "    <tr>\n",
       "      <th>4</th>\n",
       "      <td>Jane Johnson</td>\n",
       "      <td>230905194</td>\n",
       "      <td>Engineering, Quantum Computing, Robotics</td>\n",
       "      <td>CIVIL</td>\n",
       "    </tr>\n",
       "  </tbody>\n",
       "</table>\n",
       "</div>"
      ],
      "text/plain": [
       "             Name  Registration Number  \\\n",
       "0    Quincy Brown            230902858   \n",
       "1   Quincy Taylor            230908115   \n",
       "2  Alice Martinez            230903311   \n",
       "3   Nathan Miller            230902604   \n",
       "4    Jane Johnson            230905194   \n",
       "\n",
       "                                           Interests   Branch  \n",
       "0                               Physics, Programming  BIOTECH  \n",
       "1                                            Physics   BIOMED  \n",
       "2                                         Statistics      CPS  \n",
       "3  Python, AIML, Quantum Computing, Cryptocurrenc...      ENI  \n",
       "4           Engineering, Quantum Computing, Robotics    CIVIL  "
      ]
     },
     "execution_count": 92,
     "metadata": {},
     "output_type": "execute_result"
    }
   ],
   "source": [
    "students_data.head()"
   ]
  },
  {
   "cell_type": "code",
   "execution_count": 93,
   "metadata": {},
   "outputs": [],
   "source": [
    "#concatinating branch and interests fields\n",
    "students_data['Branch_Interests'] = students_data['Branch'] + ', ' + students_data['Interests']"
   ]
  },
  {
   "cell_type": "code",
   "execution_count": 94,
   "metadata": {},
   "outputs": [
    {
     "data": {
      "text/html": [
       "<div>\n",
       "<style scoped>\n",
       "    .dataframe tbody tr th:only-of-type {\n",
       "        vertical-align: middle;\n",
       "    }\n",
       "\n",
       "    .dataframe tbody tr th {\n",
       "        vertical-align: top;\n",
       "    }\n",
       "\n",
       "    .dataframe thead th {\n",
       "        text-align: right;\n",
       "    }\n",
       "</style>\n",
       "<table border=\"1\" class=\"dataframe\">\n",
       "  <thead>\n",
       "    <tr style=\"text-align: right;\">\n",
       "      <th></th>\n",
       "      <th>Name</th>\n",
       "      <th>Registration Number</th>\n",
       "      <th>Interests</th>\n",
       "      <th>Branch</th>\n",
       "      <th>Branch_Interests</th>\n",
       "    </tr>\n",
       "  </thead>\n",
       "  <tbody>\n",
       "    <tr>\n",
       "      <th>0</th>\n",
       "      <td>Quincy Brown</td>\n",
       "      <td>230902858</td>\n",
       "      <td>Physics, Programming</td>\n",
       "      <td>BIOTECH</td>\n",
       "      <td>BIOTECH, Physics, Programming</td>\n",
       "    </tr>\n",
       "    <tr>\n",
       "      <th>1</th>\n",
       "      <td>Quincy Taylor</td>\n",
       "      <td>230908115</td>\n",
       "      <td>Physics</td>\n",
       "      <td>BIOMED</td>\n",
       "      <td>BIOMED, Physics</td>\n",
       "    </tr>\n",
       "    <tr>\n",
       "      <th>2</th>\n",
       "      <td>Alice Martinez</td>\n",
       "      <td>230903311</td>\n",
       "      <td>Statistics</td>\n",
       "      <td>CPS</td>\n",
       "      <td>CPS, Statistics</td>\n",
       "    </tr>\n",
       "    <tr>\n",
       "      <th>3</th>\n",
       "      <td>Nathan Miller</td>\n",
       "      <td>230902604</td>\n",
       "      <td>Python, AIML, Quantum Computing, Cryptocurrenc...</td>\n",
       "      <td>ENI</td>\n",
       "      <td>ENI, Python, AIML, Quantum Computing, Cryptocu...</td>\n",
       "    </tr>\n",
       "    <tr>\n",
       "      <th>4</th>\n",
       "      <td>Jane Johnson</td>\n",
       "      <td>230905194</td>\n",
       "      <td>Engineering, Quantum Computing, Robotics</td>\n",
       "      <td>CIVIL</td>\n",
       "      <td>CIVIL, Engineering, Quantum Computing, Robotics</td>\n",
       "    </tr>\n",
       "  </tbody>\n",
       "</table>\n",
       "</div>"
      ],
      "text/plain": [
       "             Name  Registration Number  \\\n",
       "0    Quincy Brown            230902858   \n",
       "1   Quincy Taylor            230908115   \n",
       "2  Alice Martinez            230903311   \n",
       "3   Nathan Miller            230902604   \n",
       "4    Jane Johnson            230905194   \n",
       "\n",
       "                                           Interests   Branch  \\\n",
       "0                               Physics, Programming  BIOTECH   \n",
       "1                                            Physics   BIOMED   \n",
       "2                                         Statistics      CPS   \n",
       "3  Python, AIML, Quantum Computing, Cryptocurrenc...      ENI   \n",
       "4           Engineering, Quantum Computing, Robotics    CIVIL   \n",
       "\n",
       "                                    Branch_Interests  \n",
       "0                      BIOTECH, Physics, Programming  \n",
       "1                                    BIOMED, Physics  \n",
       "2                                    CPS, Statistics  \n",
       "3  ENI, Python, AIML, Quantum Computing, Cryptocu...  \n",
       "4    CIVIL, Engineering, Quantum Computing, Robotics  "
      ]
     },
     "execution_count": 94,
     "metadata": {},
     "output_type": "execute_result"
    }
   ],
   "source": [
    "students_data.head()"
   ]
  },
  {
   "cell_type": "code",
   "execution_count": 95,
   "metadata": {},
   "outputs": [],
   "source": [
    "from sklearn.feature_extraction.text import TfidfVectorizer\n",
    "from sklearn.metrics.pairwise import cosine_similarity\n",
    "\n",
    "#creating a TfidfVectorizer object\n",
    "tfidf = TfidfVectorizer(stop_words='english')\n",
    "tfidf_matrix = tfidf.fit_transform(workshop_data['tags'])\n",
    "\n",
    "#transforming user data\n",
    "user_tfidf_matrix = tfidf.transform(students_data['Branch_Interests'])\n",
    "\n",
    "#calculating cosine similarity\n",
    "cosine_sim = cosine_similarity(user_tfidf_matrix, tfidf_matrix)"
   ]
  },
  {
   "cell_type": "code",
   "execution_count": 96,
   "metadata": {},
   "outputs": [],
   "source": [
    "from nltk.stem import PorterStemmer\n",
    "stemmer = PorterStemmer()\n",
    "\n",
    "# Apply stemming to workshop tags and student interests to standardize word forms\n",
    "# Stemming reduces words to their root form (e.g., \"programming\" -> \"program\"),\n",
    "# ensuring uniformity across the tags and interests. This helps improve matching\n",
    "# between workshops and student preferences by handling variations in phrasing\n",
    "# (e.g., \"computing\" vs. \"compute\").\n",
    "\n",
    "workshop_data['tags'] = workshop_data['tags'].apply(lambda x: ' '.join([stemmer.stem(word) for word in x.split()]))\n",
    "students_data['Branch_Interests'] = students_data['Branch_Interests'].apply(lambda x: ' '.join([stemmer.stem(word) for word in x.split()]))"
   ]
  },
  {
   "cell_type": "code",
   "execution_count": 97,
   "metadata": {},
   "outputs": [],
   "source": [
    "# For each student, get the top-k workshops (e.g., k=3)\n",
    "top_k = 3\n",
    "recommendations = []\n",
    "\n",
    "for student_idx in range(cosine_sim.shape[0]):\n",
    "    # Get sorted indices of workshops based on similarity\n",
    "    similar_workshops = cosine_sim[student_idx].argsort()[::-1][:top_k]\n",
    "    recommendations.append(workshop_data.iloc[similar_workshops]['title'].values)"
   ]
  },
  {
   "cell_type": "code",
   "execution_count": 98,
   "metadata": {},
   "outputs": [],
   "source": [
    "#code for popular workshops"
   ]
  },
  {
   "cell_type": "code",
   "execution_count": 99,
   "metadata": {},
   "outputs": [],
   "source": [
    "students_data['Recommended_Workshops'] = recommendations"
   ]
  },
  {
   "cell_type": "code",
   "execution_count": 100,
   "metadata": {},
   "outputs": [],
   "source": [
    "students_data.to_csv('student_recommendations.csv', index=False)"
   ]
  },
  {
   "cell_type": "code",
   "execution_count": null,
   "metadata": {
    "vscode": {
     "languageId": "ruby"
    }
   },
   "outputs": [],
   "source": []
  }
 ],
 "metadata": {
  "kernelspec": {
   "display_name": "Python 3",
   "language": "python",
   "name": "python3"
  },
  "language_info": {
   "codemirror_mode": {
    "name": "ipython",
    "version": 3
   },
   "file_extension": ".py",
   "mimetype": "text/x-python",
   "name": "python",
   "nbconvert_exporter": "python",
   "pygments_lexer": "ipython3",
   "version": "3.12.7"
  }
 },
 "nbformat": 4,
 "nbformat_minor": 2
}
